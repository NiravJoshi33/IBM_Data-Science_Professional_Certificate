{
 "cells": [
  {
   "cell_type": "markdown",
   "metadata": {},
   "source": [
    "## Data Science Methodology Overview\n",
    "- Business Understanding\n",
    "- Analytic Approach\n",
    "- Data Requirements\n",
    "- Data Collection\n",
    "- Data Understanding\n",
    "- Data Preparation\n",
    "- Modeling\n",
    "- Evaluation\n",
    "- Deployment\n",
    "- Feedback"
   ]
  },
  {
   "cell_type": "markdown",
   "metadata": {},
   "source": [
    "### Business Understanding\n",
    "Seek clarification. What is the goal of the person with the problem?\\\n",
    "Figure out the objectives that are in line with the goals."
   ]
  },
  {
   "cell_type": "markdown",
   "metadata": {},
   "source": [
    "### Analytic Approach\n",
    "How can you use the data to asnwer the question?\\\n",
    "If question is the determine probabilities of an action - Use predictive model\\\n",
    "If question is to show relationships - Use descriptive model\\\n",
    "If question required Yes or No answer - Use classification model\\"
   ]
  }
 ],
 "metadata": {
  "language_info": {
   "name": "python"
  },
  "orig_nbformat": 4
 },
 "nbformat": 4,
 "nbformat_minor": 2
}
